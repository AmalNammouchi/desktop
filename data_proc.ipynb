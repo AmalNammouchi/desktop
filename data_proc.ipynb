{
  "nbformat": 4,
  "nbformat_minor": 0,
  "metadata": {
    "kernelspec": {
      "display_name": "Python 3",
      "language": "python",
      "name": "python3"
    },
    "language_info": {
      "codemirror_mode": {
        "name": "ipython",
        "version": 3
      },
      "file_extension": ".py",
      "mimetype": "text/x-python",
      "name": "python",
      "nbconvert_exporter": "python",
      "pygments_lexer": "ipython3",
      "version": "3.6.6"
    },
    "colab": {
      "name": "data_proc.ipynb",
      "provenance": [],
      "collapsed_sections": [],
      "include_colab_link": true
    }
  },
  "cells": [
    {
      "cell_type": "markdown",
      "metadata": {
        "id": "view-in-github",
        "colab_type": "text"
      },
      "source": [
        "<a href=\"https://colab.research.google.com/github/AmalNammouchi/desktop/blob/master/data_proc.ipynb\" target=\"_parent\"><img src=\"https://colab.research.google.com/assets/colab-badge.svg\" alt=\"Open In Colab\"/></a>"
      ]
    },
    {
      "cell_type": "code",
      "metadata": {
        "id": "FjeOpeRrWAwz",
        "colab_type": "code",
        "colab": {}
      },
      "source": [
        "import pandas as  pd \n",
        "import numpy as np \n",
        "import matplotlib.pyplot as plt \n",
        "from  datetime import datetime"
      ],
      "execution_count": 0,
      "outputs": []
    },
    {
      "cell_type": "code",
      "metadata": {
        "id": "xdF8nXhVWAw4",
        "colab_type": "code",
        "colab": {}
      },
      "source": [
        "# load data \n",
        "train=pd.read_csv(\"train.csv\")\n",
        "sample_sub=pd.read_csv(\"Sample_sub.csv\")"
      ],
      "execution_count": 0,
      "outputs": []
    },
    {
      "cell_type": "code",
      "metadata": {
        "id": "gSUmurKhWAw9",
        "colab_type": "code",
        "outputId": "7694c3b2-4dd1-42e0-a3f9-0919a6435178",
        "colab": {
          "base_uri": "https://localhost:8080/",
          "height": 204
        }
      },
      "source": [
        "sample_sub.head()"
      ],
      "execution_count": 778,
      "outputs": [
        {
          "output_type": "execute_result",
          "data": {
            "text/html": [
              "<div>\n",
              "<style scoped>\n",
              "    .dataframe tbody tr th:only-of-type {\n",
              "        vertical-align: middle;\n",
              "    }\n",
              "\n",
              "    .dataframe tbody tr th {\n",
              "        vertical-align: top;\n",
              "    }\n",
              "\n",
              "    .dataframe thead th {\n",
              "        text-align: right;\n",
              "    }\n",
              "</style>\n",
              "<table border=\"1\" class=\"dataframe\">\n",
              "  <thead>\n",
              "    <tr style=\"text-align: right;\">\n",
              "      <th></th>\n",
              "      <th>ID</th>\n",
              "      <th>Capture_Number</th>\n",
              "    </tr>\n",
              "  </thead>\n",
              "  <tbody>\n",
              "    <tr>\n",
              "      <th>0</th>\n",
              "      <td>CaptureSite_0_201901</td>\n",
              "      <td>7</td>\n",
              "    </tr>\n",
              "    <tr>\n",
              "      <th>1</th>\n",
              "      <td>CaptureSite_0_201902</td>\n",
              "      <td>1</td>\n",
              "    </tr>\n",
              "    <tr>\n",
              "      <th>2</th>\n",
              "      <td>CaptureSite_0_201903</td>\n",
              "      <td>5</td>\n",
              "    </tr>\n",
              "    <tr>\n",
              "      <th>3</th>\n",
              "      <td>CaptureSite_0_201904</td>\n",
              "      <td>2</td>\n",
              "    </tr>\n",
              "    <tr>\n",
              "      <th>4</th>\n",
              "      <td>CaptureSite_0_201905</td>\n",
              "      <td>3</td>\n",
              "    </tr>\n",
              "  </tbody>\n",
              "</table>\n",
              "</div>"
            ],
            "text/plain": [
              "                     ID  Capture_Number\n",
              "0  CaptureSite_0_201901               7\n",
              "1  CaptureSite_0_201902               1\n",
              "2  CaptureSite_0_201903               5\n",
              "3  CaptureSite_0_201904               2\n",
              "4  CaptureSite_0_201905               3"
            ]
          },
          "metadata": {
            "tags": []
          },
          "execution_count": 778
        }
      ]
    },
    {
      "cell_type": "code",
      "metadata": {
        "id": "vLiRz0fdWAxD",
        "colab_type": "code",
        "outputId": "407b00ea-2f2a-476b-8032-34bd50b7f88b",
        "colab": {
          "base_uri": "https://localhost:8080/",
          "height": 292
        }
      },
      "source": [
        "train.head()"
      ],
      "execution_count": 779,
      "outputs": [
        {
          "output_type": "execute_result",
          "data": {
            "text/html": [
              "<div>\n",
              "<style scoped>\n",
              "    .dataframe tbody tr th:only-of-type {\n",
              "        vertical-align: middle;\n",
              "    }\n",
              "\n",
              "    .dataframe tbody tr th {\n",
              "        vertical-align: top;\n",
              "    }\n",
              "\n",
              "    .dataframe thead th {\n",
              "        text-align: right;\n",
              "    }\n",
              "</style>\n",
              "<table border=\"1\" class=\"dataframe\">\n",
              "  <thead>\n",
              "    <tr style=\"text-align: right;\">\n",
              "      <th></th>\n",
              "      <th>Rescue_ID</th>\n",
              "      <th>Date_TimeCaught</th>\n",
              "      <th>Researcher</th>\n",
              "      <th>CaptureSite</th>\n",
              "      <th>ForagingGround</th>\n",
              "      <th>CaptureMethod</th>\n",
              "      <th>Fisher</th>\n",
              "      <th>LandingSite</th>\n",
              "      <th>Species</th>\n",
              "      <th>Tag_1</th>\n",
              "      <th>Tag_2</th>\n",
              "      <th>Lost_Tags</th>\n",
              "      <th>T_Number</th>\n",
              "      <th>CCL_cm</th>\n",
              "      <th>CCW_cm</th>\n",
              "      <th>Weight_Kg</th>\n",
              "      <th>Sex</th>\n",
              "      <th>TurtleCharacteristics</th>\n",
              "      <th>Status</th>\n",
              "      <th>ReleaseSite</th>\n",
              "      <th>Date_TimeRelease</th>\n",
              "    </tr>\n",
              "  </thead>\n",
              "  <tbody>\n",
              "    <tr>\n",
              "      <th>0</th>\n",
              "      <td>2000_RE_0060</td>\n",
              "      <td>2000-12-22</td>\n",
              "      <td>Researcher_25</td>\n",
              "      <td>CaptureSite_0</td>\n",
              "      <td>Ocean</td>\n",
              "      <td>Net</td>\n",
              "      <td>Fisher_1072</td>\n",
              "      <td>LandingSite_CaptureSiteCategory_2</td>\n",
              "      <td>Species_6</td>\n",
              "      <td>CC00147</td>\n",
              "      <td>None</td>\n",
              "      <td>NaN</td>\n",
              "      <td>NaN</td>\n",
              "      <td>64.70</td>\n",
              "      <td>62.60</td>\n",
              "      <td>NaN</td>\n",
              "      <td>Unknown</td>\n",
              "      <td>algae at rear of shell</td>\n",
              "      <td>Released</td>\n",
              "      <td>ReleaseSite_50</td>\n",
              "      <td>22/12/00</td>\n",
              "    </tr>\n",
              "    <tr>\n",
              "      <th>1</th>\n",
              "      <td>2001_RE_0187</td>\n",
              "      <td>2001-10-28</td>\n",
              "      <td>Researcher_6</td>\n",
              "      <td>CaptureSite_0</td>\n",
              "      <td>Ocean</td>\n",
              "      <td>Net</td>\n",
              "      <td>Fisher_520</td>\n",
              "      <td>LandingSite_CaptureSiteCategory_2</td>\n",
              "      <td>Species_6</td>\n",
              "      <td>W442</td>\n",
              "      <td>None</td>\n",
              "      <td>NaN</td>\n",
              "      <td>NaN</td>\n",
              "      <td>35.85</td>\n",
              "      <td>31.35</td>\n",
              "      <td>NaN</td>\n",
              "      <td>Unknown</td>\n",
              "      <td>multiple b's on front flippers&amp;  a lot of alga...</td>\n",
              "      <td>Released</td>\n",
              "      <td>ReleaseSite_62</td>\n",
              "      <td>28/10/01</td>\n",
              "    </tr>\n",
              "    <tr>\n",
              "      <th>2</th>\n",
              "      <td>2001_RE_0197</td>\n",
              "      <td>2001-11-01</td>\n",
              "      <td>Researcher_6</td>\n",
              "      <td>CaptureSite_0</td>\n",
              "      <td>Ocean</td>\n",
              "      <td>Net</td>\n",
              "      <td>Fisher_1669</td>\n",
              "      <td>LandingSite_CaptureSiteCategory_2</td>\n",
              "      <td>Species_5</td>\n",
              "      <td>KE0376</td>\n",
              "      <td>None</td>\n",
              "      <td>NaN</td>\n",
              "      <td>NaN</td>\n",
              "      <td>51.80</td>\n",
              "      <td>49.20</td>\n",
              "      <td>NaN</td>\n",
              "      <td>Unknown</td>\n",
              "      <td>clean</td>\n",
              "      <td>Released</td>\n",
              "      <td>ReleaseSite_50</td>\n",
              "      <td>01/11/01</td>\n",
              "    </tr>\n",
              "    <tr>\n",
              "      <th>3</th>\n",
              "      <td>2002_RE_0031</td>\n",
              "      <td>2002-03-11</td>\n",
              "      <td>Researcher_32</td>\n",
              "      <td>CaptureSite_0</td>\n",
              "      <td>Ocean</td>\n",
              "      <td>Net</td>\n",
              "      <td>Fisher_1798</td>\n",
              "      <td>LandingSite_CaptureSiteCategory_2</td>\n",
              "      <td>Species_6</td>\n",
              "      <td>CC00302</td>\n",
              "      <td>None</td>\n",
              "      <td>NaN</td>\n",
              "      <td>NaN</td>\n",
              "      <td>60.50</td>\n",
              "      <td>59.00</td>\n",
              "      <td>NaN</td>\n",
              "      <td>Unknown</td>\n",
              "      <td>1 b 3 CS+ calcerous algae at rear end of shell...</td>\n",
              "      <td>Released</td>\n",
              "      <td>ReleaseSite_50</td>\n",
              "      <td>11/03/02</td>\n",
              "    </tr>\n",
              "    <tr>\n",
              "      <th>4</th>\n",
              "      <td>2002_RE_0118</td>\n",
              "      <td>2002-08-08</td>\n",
              "      <td>Researcher_25</td>\n",
              "      <td>CaptureSite_0</td>\n",
              "      <td>Ocean</td>\n",
              "      <td>Beached</td>\n",
              "      <td>Fisher_1918</td>\n",
              "      <td>LandingSite_CaptureSiteCategory_2</td>\n",
              "      <td>Species_5</td>\n",
              "      <td>NotTagged_0113</td>\n",
              "      <td>None</td>\n",
              "      <td>NaN</td>\n",
              "      <td>NaN</td>\n",
              "      <td>34.70</td>\n",
              "      <td>33.00</td>\n",
              "      <td>NaN</td>\n",
              "      <td>Unknown</td>\n",
              "      <td>very lively+ right eye is hanging out + swolle...</td>\n",
              "      <td>Released</td>\n",
              "      <td>ReleaseSite_62</td>\n",
              "      <td>08/08/02</td>\n",
              "    </tr>\n",
              "  </tbody>\n",
              "</table>\n",
              "</div>"
            ],
            "text/plain": [
              "      Rescue_ID Date_TimeCaught  ...     ReleaseSite Date_TimeRelease\n",
              "0  2000_RE_0060      2000-12-22  ...  ReleaseSite_50         22/12/00\n",
              "1  2001_RE_0187      2001-10-28  ...  ReleaseSite_62         28/10/01\n",
              "2  2001_RE_0197      2001-11-01  ...  ReleaseSite_50         01/11/01\n",
              "3  2002_RE_0031      2002-03-11  ...  ReleaseSite_50         11/03/02\n",
              "4  2002_RE_0118      2002-08-08  ...  ReleaseSite_62         08/08/02\n",
              "\n",
              "[5 rows x 21 columns]"
            ]
          },
          "metadata": {
            "tags": []
          },
          "execution_count": 779
        }
      ]
    },
    {
      "cell_type": "code",
      "metadata": {
        "id": "o0B1yYoGWAxH",
        "colab_type": "code",
        "colab": {}
      },
      "source": [
        "# split Id to Year woy and CaptureSite\n",
        "sample_sub[\"year_woy\"]=(sample_sub.ID.apply(lambda x: x.split(\"_\")[-1])).astype(int)\n",
        "sample_sub[\"CaptureSite\"]=sample_sub.ID.apply(lambda x: (\"_\").join(x.split(\"_\")[0:-1]))"
      ],
      "execution_count": 0,
      "outputs": []
    },
    {
      "cell_type": "code",
      "metadata": {
        "id": "Wo06skJtWAxK",
        "colab_type": "code",
        "outputId": "68021bd0-1935-4567-8d17-15387425fc41",
        "colab": {
          "base_uri": "https://localhost:8080/",
          "height": 34
        }
      },
      "source": [
        "# Create Time features from Date_TimeCaught \n",
        "train[\"Date_TimeCaught\"]=pd.to_datetime(train[\"Date_TimeCaught\"])\n",
        "print(train.Date_TimeCaught.min(),train.Date_TimeCaught.max())\n",
        "train[\"year\"]=train.Date_TimeCaught.dt.year\n",
        "train[\"week_of_year\"]=train.Date_TimeCaught.dt.weekofyear\n",
        "train[\"year_woy\"]=train.year*100+train.week_of_year"
      ],
      "execution_count": 781,
      "outputs": [
        {
          "output_type": "stream",
          "text": [
            "1998-04-17 00:00:00 2018-12-31 00:00:00\n"
          ],
          "name": "stdout"
        }
      ]
    },
    {
      "cell_type": "code",
      "metadata": {
        "id": "T-_ygwnXWAxR",
        "colab_type": "code",
        "outputId": "408f4cde-3bd0-4552-d489-45a2a18e126b",
        "colab": {
          "base_uri": "https://localhost:8080/",
          "height": 204
        }
      },
      "source": [
        "keys=pd.concat([train[[\"year_woy\",\"CaptureSite\"]],sample_sub[[\"year_woy\",\"CaptureSite\"]]])\n",
        "# keys.sort_values([\"CaptureSite\",\"year_woy\"],inplace=True)\n",
        "CaptureSite_min_year_woy=keys.groupby(\"CaptureSite\").year_woy.min().rename(\"year_woy\").reset_index()\n",
        "CaptureSite_min_year_woy.head()"
      ],
      "execution_count": 782,
      "outputs": [
        {
          "output_type": "execute_result",
          "data": {
            "text/html": [
              "<div>\n",
              "<style scoped>\n",
              "    .dataframe tbody tr th:only-of-type {\n",
              "        vertical-align: middle;\n",
              "    }\n",
              "\n",
              "    .dataframe tbody tr th {\n",
              "        vertical-align: top;\n",
              "    }\n",
              "\n",
              "    .dataframe thead th {\n",
              "        text-align: right;\n",
              "    }\n",
              "</style>\n",
              "<table border=\"1\" class=\"dataframe\">\n",
              "  <thead>\n",
              "    <tr style=\"text-align: right;\">\n",
              "      <th></th>\n",
              "      <th>CaptureSite</th>\n",
              "      <th>year_woy</th>\n",
              "    </tr>\n",
              "  </thead>\n",
              "  <tbody>\n",
              "    <tr>\n",
              "      <th>0</th>\n",
              "      <td>CaptureSite_0</td>\n",
              "      <td>200051</td>\n",
              "    </tr>\n",
              "    <tr>\n",
              "      <th>1</th>\n",
              "      <td>CaptureSite_1</td>\n",
              "      <td>200123</td>\n",
              "    </tr>\n",
              "    <tr>\n",
              "      <th>2</th>\n",
              "      <td>CaptureSite_10</td>\n",
              "      <td>200050</td>\n",
              "    </tr>\n",
              "    <tr>\n",
              "      <th>3</th>\n",
              "      <td>CaptureSite_11</td>\n",
              "      <td>199828</td>\n",
              "    </tr>\n",
              "    <tr>\n",
              "      <th>4</th>\n",
              "      <td>CaptureSite_12</td>\n",
              "      <td>200107</td>\n",
              "    </tr>\n",
              "  </tbody>\n",
              "</table>\n",
              "</div>"
            ],
            "text/plain": [
              "      CaptureSite  year_woy\n",
              "0   CaptureSite_0    200051\n",
              "1   CaptureSite_1    200123\n",
              "2  CaptureSite_10    200050\n",
              "3  CaptureSite_11    199828\n",
              "4  CaptureSite_12    200107"
            ]
          },
          "metadata": {
            "tags": []
          },
          "execution_count": 782
        }
      ]
    },
    {
      "cell_type": "code",
      "metadata": {
        "id": "tpbx4ikgWAxU",
        "colab_type": "code",
        "colab": {}
      },
      "source": [
        "range_year_woy=pd.DataFrame()\n",
        "range_year_woy[\"Date_TimeCaught\"]=pd.date_range(start=train.Date_TimeCaught.min(),end=datetime(2019,10,31))\n",
        "range_year_woy[\"year\"]=range_year_woy.Date_TimeCaught.dt.year\n",
        "range_year_woy[\"week_of_year\"]=range_year_woy.Date_TimeCaught.dt.weekofyear\n",
        "range_year_woy[\"year_woy\"]=range_year_woy.year*100+range_year_woy.week_of_year\n",
        "range_year_woy.drop_duplicates([\"year_woy\"],inplace=True)"
      ],
      "execution_count": 0,
      "outputs": []
    },
    {
      "cell_type": "code",
      "metadata": {
        "id": "F363yeDIWAxY",
        "colab_type": "code",
        "outputId": "105c5ddb-340d-4b1d-f123-73f744afc6bd",
        "colab": {
          "base_uri": "https://localhost:8080/",
          "height": 156
        }
      },
      "source": [
        "final_data=[]\n",
        "for site , year_woy in zip(CaptureSite_min_year_woy.CaptureSite.values,CaptureSite_min_year_woy.year_woy.values) :\n",
        "\n",
        "    one_site_df=range_year_woy[range_year_woy.year_woy>=year_woy]\n",
        "    one_site_df[\"CaptureSite\"]=site\n",
        "    final_data.append(one_site_df)\n",
        "final_data=pd.concat(final_data)\n",
        "len(final_data)"
      ],
      "execution_count": 784,
      "outputs": [
        {
          "output_type": "stream",
          "text": [
            "/usr/local/lib/python3.6/dist-packages/ipykernel_launcher.py:5: SettingWithCopyWarning: \n",
            "A value is trying to be set on a copy of a slice from a DataFrame.\n",
            "Try using .loc[row_indexer,col_indexer] = value instead\n",
            "\n",
            "See the caveats in the documentation: http://pandas.pydata.org/pandas-docs/stable/user_guide/indexing.html#returning-a-view-versus-a-copy\n",
            "  \"\"\"\n"
          ],
          "name": "stderr"
        },
        {
          "output_type": "execute_result",
          "data": {
            "text/plain": [
              "28048"
            ]
          },
          "metadata": {
            "tags": []
          },
          "execution_count": 784
        }
      ]
    },
    {
      "cell_type": "code",
      "metadata": {
        "id": "HUtys27yWAxf",
        "colab_type": "code",
        "colab": {}
      },
      "source": [
        "Target=train.groupby([\"year_woy\",\"CaptureSite\"]).CaptureSite.count().rename(\"Capture_Number\").reset_index()\n",
        "final_data=final_data.merge(Target,on=[\"year_woy\",\"CaptureSite\"],how=\"left\")\n",
        "final_data.Capture_Number.fillna(0,inplace=True)"
      ],
      "execution_count": 0,
      "outputs": []
    },
    {
      "cell_type": "code",
      "metadata": {
        "id": "vPJ4J-XnWAxm",
        "colab_type": "code",
        "outputId": "f58cb4de-f52f-48cc-e527-abd5174b8340",
        "colab": {
          "base_uri": "https://localhost:8080/",
          "height": 476
        }
      },
      "source": [
        "final_data.Capture_Number.fillna(0).value_counts(True)"
      ],
      "execution_count": 786,
      "outputs": [
        {
          "output_type": "execute_result",
          "data": {
            "text/plain": [
              "0.0     0.716308\n",
              "1.0     0.147461\n",
              "2.0     0.059469\n",
              "3.0     0.030626\n",
              "4.0     0.015759\n",
              "5.0     0.009199\n",
              "6.0     0.005990\n",
              "7.0     0.005455\n",
              "8.0     0.002603\n",
              "9.0     0.002104\n",
              "10.0    0.001604\n",
              "11.0    0.000998\n",
              "12.0    0.000606\n",
              "14.0    0.000535\n",
              "13.0    0.000499\n",
              "15.0    0.000214\n",
              "16.0    0.000178\n",
              "17.0    0.000107\n",
              "28.0    0.000036\n",
              "22.0    0.000036\n",
              "19.0    0.000036\n",
              "35.0    0.000036\n",
              "20.0    0.000036\n",
              "21.0    0.000036\n",
              "18.0    0.000036\n",
              "23.0    0.000036\n",
              "Name: Capture_Number, dtype: float64"
            ]
          },
          "metadata": {
            "tags": []
          },
          "execution_count": 786
        }
      ]
    },
    {
      "cell_type": "code",
      "metadata": {
        "id": "ns9Ukne1WAxs",
        "colab_type": "code",
        "colab": {
          "base_uri": "https://localhost:8080/",
          "height": 204
        },
        "outputId": "8341985f-1129-4bbb-dee6-2866ae9d5a7d"
      },
      "source": [
        "#final_data=final_data[(final_data.year.isin([]))]\n",
        "final_data.head()"
      ],
      "execution_count": 787,
      "outputs": [
        {
          "output_type": "execute_result",
          "data": {
            "text/html": [
              "<div>\n",
              "<style scoped>\n",
              "    .dataframe tbody tr th:only-of-type {\n",
              "        vertical-align: middle;\n",
              "    }\n",
              "\n",
              "    .dataframe tbody tr th {\n",
              "        vertical-align: top;\n",
              "    }\n",
              "\n",
              "    .dataframe thead th {\n",
              "        text-align: right;\n",
              "    }\n",
              "</style>\n",
              "<table border=\"1\" class=\"dataframe\">\n",
              "  <thead>\n",
              "    <tr style=\"text-align: right;\">\n",
              "      <th></th>\n",
              "      <th>Date_TimeCaught</th>\n",
              "      <th>year</th>\n",
              "      <th>week_of_year</th>\n",
              "      <th>year_woy</th>\n",
              "      <th>CaptureSite</th>\n",
              "      <th>Capture_Number</th>\n",
              "    </tr>\n",
              "  </thead>\n",
              "  <tbody>\n",
              "    <tr>\n",
              "      <th>0</th>\n",
              "      <td>2000-01-01</td>\n",
              "      <td>2000</td>\n",
              "      <td>52</td>\n",
              "      <td>200052</td>\n",
              "      <td>CaptureSite_0</td>\n",
              "      <td>0.0</td>\n",
              "    </tr>\n",
              "    <tr>\n",
              "      <th>1</th>\n",
              "      <td>2000-12-18</td>\n",
              "      <td>2000</td>\n",
              "      <td>51</td>\n",
              "      <td>200051</td>\n",
              "      <td>CaptureSite_0</td>\n",
              "      <td>1.0</td>\n",
              "    </tr>\n",
              "    <tr>\n",
              "      <th>2</th>\n",
              "      <td>2001-01-01</td>\n",
              "      <td>2001</td>\n",
              "      <td>1</td>\n",
              "      <td>200101</td>\n",
              "      <td>CaptureSite_0</td>\n",
              "      <td>0.0</td>\n",
              "    </tr>\n",
              "    <tr>\n",
              "      <th>3</th>\n",
              "      <td>2001-01-08</td>\n",
              "      <td>2001</td>\n",
              "      <td>2</td>\n",
              "      <td>200102</td>\n",
              "      <td>CaptureSite_0</td>\n",
              "      <td>0.0</td>\n",
              "    </tr>\n",
              "    <tr>\n",
              "      <th>4</th>\n",
              "      <td>2001-01-15</td>\n",
              "      <td>2001</td>\n",
              "      <td>3</td>\n",
              "      <td>200103</td>\n",
              "      <td>CaptureSite_0</td>\n",
              "      <td>0.0</td>\n",
              "    </tr>\n",
              "  </tbody>\n",
              "</table>\n",
              "</div>"
            ],
            "text/plain": [
              "  Date_TimeCaught  year  week_of_year  year_woy    CaptureSite  Capture_Number\n",
              "0      2000-01-01  2000            52    200052  CaptureSite_0             0.0\n",
              "1      2000-12-18  2000            51    200051  CaptureSite_0             1.0\n",
              "2      2001-01-01  2001             1    200101  CaptureSite_0             0.0\n",
              "3      2001-01-08  2001             2    200102  CaptureSite_0             0.0\n",
              "4      2001-01-15  2001             3    200103  CaptureSite_0             0.0"
            ]
          },
          "metadata": {
            "tags": []
          },
          "execution_count": 787
        }
      ]
    },
    {
      "cell_type": "code",
      "metadata": {
        "id": "XV0zrF0LWAxv",
        "colab_type": "code",
        "colab": {}
      },
      "source": [
        "train=final_data[final_data.year<2019]\n",
        "test=final_data[final_data.year==2019]"
      ],
      "execution_count": 0,
      "outputs": []
    },
    {
      "cell_type": "code",
      "metadata": {
        "id": "-PuDZnEZwWbL",
        "colab_type": "code",
        "colab": {
          "base_uri": "https://localhost:8080/",
          "height": 204
        },
        "outputId": "352bd1b6-8b1b-4276-8b1b-cc09c44ee697"
      },
      "source": [
        "train.head()"
      ],
      "execution_count": 789,
      "outputs": [
        {
          "output_type": "execute_result",
          "data": {
            "text/html": [
              "<div>\n",
              "<style scoped>\n",
              "    .dataframe tbody tr th:only-of-type {\n",
              "        vertical-align: middle;\n",
              "    }\n",
              "\n",
              "    .dataframe tbody tr th {\n",
              "        vertical-align: top;\n",
              "    }\n",
              "\n",
              "    .dataframe thead th {\n",
              "        text-align: right;\n",
              "    }\n",
              "</style>\n",
              "<table border=\"1\" class=\"dataframe\">\n",
              "  <thead>\n",
              "    <tr style=\"text-align: right;\">\n",
              "      <th></th>\n",
              "      <th>Date_TimeCaught</th>\n",
              "      <th>year</th>\n",
              "      <th>week_of_year</th>\n",
              "      <th>year_woy</th>\n",
              "      <th>CaptureSite</th>\n",
              "      <th>Capture_Number</th>\n",
              "    </tr>\n",
              "  </thead>\n",
              "  <tbody>\n",
              "    <tr>\n",
              "      <th>0</th>\n",
              "      <td>2000-01-01</td>\n",
              "      <td>2000</td>\n",
              "      <td>52</td>\n",
              "      <td>200052</td>\n",
              "      <td>CaptureSite_0</td>\n",
              "      <td>0.0</td>\n",
              "    </tr>\n",
              "    <tr>\n",
              "      <th>1</th>\n",
              "      <td>2000-12-18</td>\n",
              "      <td>2000</td>\n",
              "      <td>51</td>\n",
              "      <td>200051</td>\n",
              "      <td>CaptureSite_0</td>\n",
              "      <td>1.0</td>\n",
              "    </tr>\n",
              "    <tr>\n",
              "      <th>2</th>\n",
              "      <td>2001-01-01</td>\n",
              "      <td>2001</td>\n",
              "      <td>1</td>\n",
              "      <td>200101</td>\n",
              "      <td>CaptureSite_0</td>\n",
              "      <td>0.0</td>\n",
              "    </tr>\n",
              "    <tr>\n",
              "      <th>3</th>\n",
              "      <td>2001-01-08</td>\n",
              "      <td>2001</td>\n",
              "      <td>2</td>\n",
              "      <td>200102</td>\n",
              "      <td>CaptureSite_0</td>\n",
              "      <td>0.0</td>\n",
              "    </tr>\n",
              "    <tr>\n",
              "      <th>4</th>\n",
              "      <td>2001-01-15</td>\n",
              "      <td>2001</td>\n",
              "      <td>3</td>\n",
              "      <td>200103</td>\n",
              "      <td>CaptureSite_0</td>\n",
              "      <td>0.0</td>\n",
              "    </tr>\n",
              "  </tbody>\n",
              "</table>\n",
              "</div>"
            ],
            "text/plain": [
              "  Date_TimeCaught  year  week_of_year  year_woy    CaptureSite  Capture_Number\n",
              "0      2000-01-01  2000            52    200052  CaptureSite_0             0.0\n",
              "1      2000-12-18  2000            51    200051  CaptureSite_0             1.0\n",
              "2      2001-01-01  2001             1    200101  CaptureSite_0             0.0\n",
              "3      2001-01-08  2001             2    200102  CaptureSite_0             0.0\n",
              "4      2001-01-15  2001             3    200103  CaptureSite_0             0.0"
            ]
          },
          "metadata": {
            "tags": []
          },
          "execution_count": 789
        }
      ]
    },
    {
      "cell_type": "code",
      "metadata": {
        "id": "hkym8lZDyxJz",
        "colab_type": "code",
        "colab": {}
      },
      "source": [
        "data=pd.read_csv('train.csv')"
      ],
      "execution_count": 0,
      "outputs": []
    },
    {
      "cell_type": "code",
      "metadata": {
        "id": "CruHgpuWzgRH",
        "colab_type": "code",
        "colab": {
          "base_uri": "https://localhost:8080/",
          "height": 292
        },
        "outputId": "6fd124ab-3ef6-4330-dfd8-37c2a86a25f7"
      },
      "source": [
        "data.head()"
      ],
      "execution_count": 791,
      "outputs": [
        {
          "output_type": "execute_result",
          "data": {
            "text/html": [
              "<div>\n",
              "<style scoped>\n",
              "    .dataframe tbody tr th:only-of-type {\n",
              "        vertical-align: middle;\n",
              "    }\n",
              "\n",
              "    .dataframe tbody tr th {\n",
              "        vertical-align: top;\n",
              "    }\n",
              "\n",
              "    .dataframe thead th {\n",
              "        text-align: right;\n",
              "    }\n",
              "</style>\n",
              "<table border=\"1\" class=\"dataframe\">\n",
              "  <thead>\n",
              "    <tr style=\"text-align: right;\">\n",
              "      <th></th>\n",
              "      <th>Rescue_ID</th>\n",
              "      <th>Date_TimeCaught</th>\n",
              "      <th>Researcher</th>\n",
              "      <th>CaptureSite</th>\n",
              "      <th>ForagingGround</th>\n",
              "      <th>CaptureMethod</th>\n",
              "      <th>Fisher</th>\n",
              "      <th>LandingSite</th>\n",
              "      <th>Species</th>\n",
              "      <th>Tag_1</th>\n",
              "      <th>Tag_2</th>\n",
              "      <th>Lost_Tags</th>\n",
              "      <th>T_Number</th>\n",
              "      <th>CCL_cm</th>\n",
              "      <th>CCW_cm</th>\n",
              "      <th>Weight_Kg</th>\n",
              "      <th>Sex</th>\n",
              "      <th>TurtleCharacteristics</th>\n",
              "      <th>Status</th>\n",
              "      <th>ReleaseSite</th>\n",
              "      <th>Date_TimeRelease</th>\n",
              "    </tr>\n",
              "  </thead>\n",
              "  <tbody>\n",
              "    <tr>\n",
              "      <th>0</th>\n",
              "      <td>2000_RE_0060</td>\n",
              "      <td>2000-12-22</td>\n",
              "      <td>Researcher_25</td>\n",
              "      <td>CaptureSite_0</td>\n",
              "      <td>Ocean</td>\n",
              "      <td>Net</td>\n",
              "      <td>Fisher_1072</td>\n",
              "      <td>LandingSite_CaptureSiteCategory_2</td>\n",
              "      <td>Species_6</td>\n",
              "      <td>CC00147</td>\n",
              "      <td>None</td>\n",
              "      <td>NaN</td>\n",
              "      <td>NaN</td>\n",
              "      <td>64.70</td>\n",
              "      <td>62.60</td>\n",
              "      <td>NaN</td>\n",
              "      <td>Unknown</td>\n",
              "      <td>algae at rear of shell</td>\n",
              "      <td>Released</td>\n",
              "      <td>ReleaseSite_50</td>\n",
              "      <td>22/12/00</td>\n",
              "    </tr>\n",
              "    <tr>\n",
              "      <th>1</th>\n",
              "      <td>2001_RE_0187</td>\n",
              "      <td>2001-10-28</td>\n",
              "      <td>Researcher_6</td>\n",
              "      <td>CaptureSite_0</td>\n",
              "      <td>Ocean</td>\n",
              "      <td>Net</td>\n",
              "      <td>Fisher_520</td>\n",
              "      <td>LandingSite_CaptureSiteCategory_2</td>\n",
              "      <td>Species_6</td>\n",
              "      <td>W442</td>\n",
              "      <td>None</td>\n",
              "      <td>NaN</td>\n",
              "      <td>NaN</td>\n",
              "      <td>35.85</td>\n",
              "      <td>31.35</td>\n",
              "      <td>NaN</td>\n",
              "      <td>Unknown</td>\n",
              "      <td>multiple b's on front flippers&amp;  a lot of alga...</td>\n",
              "      <td>Released</td>\n",
              "      <td>ReleaseSite_62</td>\n",
              "      <td>28/10/01</td>\n",
              "    </tr>\n",
              "    <tr>\n",
              "      <th>2</th>\n",
              "      <td>2001_RE_0197</td>\n",
              "      <td>2001-11-01</td>\n",
              "      <td>Researcher_6</td>\n",
              "      <td>CaptureSite_0</td>\n",
              "      <td>Ocean</td>\n",
              "      <td>Net</td>\n",
              "      <td>Fisher_1669</td>\n",
              "      <td>LandingSite_CaptureSiteCategory_2</td>\n",
              "      <td>Species_5</td>\n",
              "      <td>KE0376</td>\n",
              "      <td>None</td>\n",
              "      <td>NaN</td>\n",
              "      <td>NaN</td>\n",
              "      <td>51.80</td>\n",
              "      <td>49.20</td>\n",
              "      <td>NaN</td>\n",
              "      <td>Unknown</td>\n",
              "      <td>clean</td>\n",
              "      <td>Released</td>\n",
              "      <td>ReleaseSite_50</td>\n",
              "      <td>01/11/01</td>\n",
              "    </tr>\n",
              "    <tr>\n",
              "      <th>3</th>\n",
              "      <td>2002_RE_0031</td>\n",
              "      <td>2002-03-11</td>\n",
              "      <td>Researcher_32</td>\n",
              "      <td>CaptureSite_0</td>\n",
              "      <td>Ocean</td>\n",
              "      <td>Net</td>\n",
              "      <td>Fisher_1798</td>\n",
              "      <td>LandingSite_CaptureSiteCategory_2</td>\n",
              "      <td>Species_6</td>\n",
              "      <td>CC00302</td>\n",
              "      <td>None</td>\n",
              "      <td>NaN</td>\n",
              "      <td>NaN</td>\n",
              "      <td>60.50</td>\n",
              "      <td>59.00</td>\n",
              "      <td>NaN</td>\n",
              "      <td>Unknown</td>\n",
              "      <td>1 b 3 CS+ calcerous algae at rear end of shell...</td>\n",
              "      <td>Released</td>\n",
              "      <td>ReleaseSite_50</td>\n",
              "      <td>11/03/02</td>\n",
              "    </tr>\n",
              "    <tr>\n",
              "      <th>4</th>\n",
              "      <td>2002_RE_0118</td>\n",
              "      <td>2002-08-08</td>\n",
              "      <td>Researcher_25</td>\n",
              "      <td>CaptureSite_0</td>\n",
              "      <td>Ocean</td>\n",
              "      <td>Beached</td>\n",
              "      <td>Fisher_1918</td>\n",
              "      <td>LandingSite_CaptureSiteCategory_2</td>\n",
              "      <td>Species_5</td>\n",
              "      <td>NotTagged_0113</td>\n",
              "      <td>None</td>\n",
              "      <td>NaN</td>\n",
              "      <td>NaN</td>\n",
              "      <td>34.70</td>\n",
              "      <td>33.00</td>\n",
              "      <td>NaN</td>\n",
              "      <td>Unknown</td>\n",
              "      <td>very lively+ right eye is hanging out + swolle...</td>\n",
              "      <td>Released</td>\n",
              "      <td>ReleaseSite_62</td>\n",
              "      <td>08/08/02</td>\n",
              "    </tr>\n",
              "  </tbody>\n",
              "</table>\n",
              "</div>"
            ],
            "text/plain": [
              "      Rescue_ID Date_TimeCaught  ...     ReleaseSite Date_TimeRelease\n",
              "0  2000_RE_0060      2000-12-22  ...  ReleaseSite_50         22/12/00\n",
              "1  2001_RE_0187      2001-10-28  ...  ReleaseSite_62         28/10/01\n",
              "2  2001_RE_0197      2001-11-01  ...  ReleaseSite_50         01/11/01\n",
              "3  2002_RE_0031      2002-03-11  ...  ReleaseSite_50         11/03/02\n",
              "4  2002_RE_0118      2002-08-08  ...  ReleaseSite_62         08/08/02\n",
              "\n",
              "[5 rows x 21 columns]"
            ]
          },
          "metadata": {
            "tags": []
          },
          "execution_count": 791
        }
      ]
    },
    {
      "cell_type": "code",
      "metadata": {
        "id": "G6_sTqj2cbMs",
        "colab_type": "code",
        "colab": {}
      },
      "source": [
        "col1 = pd.DataFrame(data.groupby('CaptureSite').agg({'Rescue_ID':['count']}))\n",
        "col1.columns = [col[0]+\"_\"+col[1] for col in col1.columns.tolist()]\n",
        "col1.reset_index(inplace=True)\n",
        "col1.head()\n",
        "train=train.merge(col1,how='left',on='CaptureSite')"
      ],
      "execution_count": 0,
      "outputs": []
    },
    {
      "cell_type": "code",
      "metadata": {
        "id": "ZLLx0k1szlBN",
        "colab_type": "code",
        "colab": {}
      },
      "source": [
        "col1 = pd.DataFrame(data.groupby('CaptureSite').agg({'Researcher':['count']}))\n",
        "col1.columns = [col[0]+\"_\"+col[1] for col in col1.columns.tolist()]\n",
        "col1.reset_index(inplace=True)"
      ],
      "execution_count": 0,
      "outputs": []
    },
    {
      "cell_type": "code",
      "metadata": {
        "id": "gXXiiufM1hSq",
        "colab_type": "code",
        "colab": {
          "base_uri": "https://localhost:8080/",
          "height": 204
        },
        "outputId": "c14b3e2a-957e-43ef-b145-df9efa71cc71"
      },
      "source": [
        "col1.head()"
      ],
      "execution_count": 794,
      "outputs": [
        {
          "output_type": "execute_result",
          "data": {
            "text/html": [
              "<div>\n",
              "<style scoped>\n",
              "    .dataframe tbody tr th:only-of-type {\n",
              "        vertical-align: middle;\n",
              "    }\n",
              "\n",
              "    .dataframe tbody tr th {\n",
              "        vertical-align: top;\n",
              "    }\n",
              "\n",
              "    .dataframe thead th {\n",
              "        text-align: right;\n",
              "    }\n",
              "</style>\n",
              "<table border=\"1\" class=\"dataframe\">\n",
              "  <thead>\n",
              "    <tr style=\"text-align: right;\">\n",
              "      <th></th>\n",
              "      <th>CaptureSite</th>\n",
              "      <th>Researcher_count</th>\n",
              "    </tr>\n",
              "  </thead>\n",
              "  <tbody>\n",
              "    <tr>\n",
              "      <th>0</th>\n",
              "      <td>CaptureSite_0</td>\n",
              "      <td>95</td>\n",
              "    </tr>\n",
              "    <tr>\n",
              "      <th>1</th>\n",
              "      <td>CaptureSite_1</td>\n",
              "      <td>793</td>\n",
              "    </tr>\n",
              "    <tr>\n",
              "      <th>2</th>\n",
              "      <td>CaptureSite_10</td>\n",
              "      <td>464</td>\n",
              "    </tr>\n",
              "    <tr>\n",
              "      <th>3</th>\n",
              "      <td>CaptureSite_11</td>\n",
              "      <td>312</td>\n",
              "    </tr>\n",
              "    <tr>\n",
              "      <th>4</th>\n",
              "      <td>CaptureSite_12</td>\n",
              "      <td>573</td>\n",
              "    </tr>\n",
              "  </tbody>\n",
              "</table>\n",
              "</div>"
            ],
            "text/plain": [
              "      CaptureSite  Researcher_count\n",
              "0   CaptureSite_0                95\n",
              "1   CaptureSite_1               793\n",
              "2  CaptureSite_10               464\n",
              "3  CaptureSite_11               312\n",
              "4  CaptureSite_12               573"
            ]
          },
          "metadata": {
            "tags": []
          },
          "execution_count": 794
        }
      ]
    },
    {
      "cell_type": "code",
      "metadata": {
        "id": "vUsAR7682dTD",
        "colab_type": "code",
        "colab": {}
      },
      "source": [
        "train=train.merge(col1,how='left',on='CaptureSite')\n",
        "\n"
      ],
      "execution_count": 0,
      "outputs": []
    },
    {
      "cell_type": "code",
      "metadata": {
        "id": "oSpZKVfV3NQQ",
        "colab_type": "code",
        "colab": {
          "base_uri": "https://localhost:8080/",
          "height": 204
        },
        "outputId": "813a4cc9-4317-44c8-dbb7-f37a6d7bf864"
      },
      "source": [
        "train.head()"
      ],
      "execution_count": 796,
      "outputs": [
        {
          "output_type": "execute_result",
          "data": {
            "text/html": [
              "<div>\n",
              "<style scoped>\n",
              "    .dataframe tbody tr th:only-of-type {\n",
              "        vertical-align: middle;\n",
              "    }\n",
              "\n",
              "    .dataframe tbody tr th {\n",
              "        vertical-align: top;\n",
              "    }\n",
              "\n",
              "    .dataframe thead th {\n",
              "        text-align: right;\n",
              "    }\n",
              "</style>\n",
              "<table border=\"1\" class=\"dataframe\">\n",
              "  <thead>\n",
              "    <tr style=\"text-align: right;\">\n",
              "      <th></th>\n",
              "      <th>Date_TimeCaught</th>\n",
              "      <th>year</th>\n",
              "      <th>week_of_year</th>\n",
              "      <th>year_woy</th>\n",
              "      <th>CaptureSite</th>\n",
              "      <th>Capture_Number</th>\n",
              "      <th>Rescue_ID_count</th>\n",
              "      <th>Researcher_count</th>\n",
              "    </tr>\n",
              "  </thead>\n",
              "  <tbody>\n",
              "    <tr>\n",
              "      <th>0</th>\n",
              "      <td>2000-01-01</td>\n",
              "      <td>2000</td>\n",
              "      <td>52</td>\n",
              "      <td>200052</td>\n",
              "      <td>CaptureSite_0</td>\n",
              "      <td>0.0</td>\n",
              "      <td>95</td>\n",
              "      <td>95</td>\n",
              "    </tr>\n",
              "    <tr>\n",
              "      <th>1</th>\n",
              "      <td>2000-12-18</td>\n",
              "      <td>2000</td>\n",
              "      <td>51</td>\n",
              "      <td>200051</td>\n",
              "      <td>CaptureSite_0</td>\n",
              "      <td>1.0</td>\n",
              "      <td>95</td>\n",
              "      <td>95</td>\n",
              "    </tr>\n",
              "    <tr>\n",
              "      <th>2</th>\n",
              "      <td>2001-01-01</td>\n",
              "      <td>2001</td>\n",
              "      <td>1</td>\n",
              "      <td>200101</td>\n",
              "      <td>CaptureSite_0</td>\n",
              "      <td>0.0</td>\n",
              "      <td>95</td>\n",
              "      <td>95</td>\n",
              "    </tr>\n",
              "    <tr>\n",
              "      <th>3</th>\n",
              "      <td>2001-01-08</td>\n",
              "      <td>2001</td>\n",
              "      <td>2</td>\n",
              "      <td>200102</td>\n",
              "      <td>CaptureSite_0</td>\n",
              "      <td>0.0</td>\n",
              "      <td>95</td>\n",
              "      <td>95</td>\n",
              "    </tr>\n",
              "    <tr>\n",
              "      <th>4</th>\n",
              "      <td>2001-01-15</td>\n",
              "      <td>2001</td>\n",
              "      <td>3</td>\n",
              "      <td>200103</td>\n",
              "      <td>CaptureSite_0</td>\n",
              "      <td>0.0</td>\n",
              "      <td>95</td>\n",
              "      <td>95</td>\n",
              "    </tr>\n",
              "  </tbody>\n",
              "</table>\n",
              "</div>"
            ],
            "text/plain": [
              "  Date_TimeCaught  year  ...  Rescue_ID_count  Researcher_count\n",
              "0      2000-01-01  2000  ...               95                95\n",
              "1      2000-12-18  2000  ...               95                95\n",
              "2      2001-01-01  2001  ...               95                95\n",
              "3      2001-01-08  2001  ...               95                95\n",
              "4      2001-01-15  2001  ...               95                95\n",
              "\n",
              "[5 rows x 8 columns]"
            ]
          },
          "metadata": {
            "tags": []
          },
          "execution_count": 796
        }
      ]
    },
    {
      "cell_type": "code",
      "metadata": {
        "id": "QC3_x8sI43mI",
        "colab_type": "code",
        "colab": {}
      },
      "source": [
        "col2 = pd.DataFrame(data.groupby('CaptureSite').agg({'Fisher':['count']}))\n",
        "col2.columns = [col[0]+\"_\"+col[1] for col in col2.columns.tolist()]\n",
        "col2.reset_index(inplace=True)"
      ],
      "execution_count": 0,
      "outputs": []
    },
    {
      "cell_type": "code",
      "metadata": {
        "id": "9FJOukXt5SP5",
        "colab_type": "code",
        "colab": {
          "base_uri": "https://localhost:8080/",
          "height": 204
        },
        "outputId": "c4167bac-513b-4641-dcb5-6f57394d944d"
      },
      "source": [
        "col2.head()"
      ],
      "execution_count": 798,
      "outputs": [
        {
          "output_type": "execute_result",
          "data": {
            "text/html": [
              "<div>\n",
              "<style scoped>\n",
              "    .dataframe tbody tr th:only-of-type {\n",
              "        vertical-align: middle;\n",
              "    }\n",
              "\n",
              "    .dataframe tbody tr th {\n",
              "        vertical-align: top;\n",
              "    }\n",
              "\n",
              "    .dataframe thead th {\n",
              "        text-align: right;\n",
              "    }\n",
              "</style>\n",
              "<table border=\"1\" class=\"dataframe\">\n",
              "  <thead>\n",
              "    <tr style=\"text-align: right;\">\n",
              "      <th></th>\n",
              "      <th>CaptureSite</th>\n",
              "      <th>Fisher_count</th>\n",
              "    </tr>\n",
              "  </thead>\n",
              "  <tbody>\n",
              "    <tr>\n",
              "      <th>0</th>\n",
              "      <td>CaptureSite_0</td>\n",
              "      <td>95</td>\n",
              "    </tr>\n",
              "    <tr>\n",
              "      <th>1</th>\n",
              "      <td>CaptureSite_1</td>\n",
              "      <td>793</td>\n",
              "    </tr>\n",
              "    <tr>\n",
              "      <th>2</th>\n",
              "      <td>CaptureSite_10</td>\n",
              "      <td>464</td>\n",
              "    </tr>\n",
              "    <tr>\n",
              "      <th>3</th>\n",
              "      <td>CaptureSite_11</td>\n",
              "      <td>312</td>\n",
              "    </tr>\n",
              "    <tr>\n",
              "      <th>4</th>\n",
              "      <td>CaptureSite_12</td>\n",
              "      <td>573</td>\n",
              "    </tr>\n",
              "  </tbody>\n",
              "</table>\n",
              "</div>"
            ],
            "text/plain": [
              "      CaptureSite  Fisher_count\n",
              "0   CaptureSite_0            95\n",
              "1   CaptureSite_1           793\n",
              "2  CaptureSite_10           464\n",
              "3  CaptureSite_11           312\n",
              "4  CaptureSite_12           573"
            ]
          },
          "metadata": {
            "tags": []
          },
          "execution_count": 798
        }
      ]
    },
    {
      "cell_type": "code",
      "metadata": {
        "id": "1MwZhgZr5Uqu",
        "colab_type": "code",
        "colab": {}
      },
      "source": [
        "train=train.merge(col2,how='left',on='CaptureSite')"
      ],
      "execution_count": 0,
      "outputs": []
    },
    {
      "cell_type": "code",
      "metadata": {
        "id": "mJ0E8Hpt5Y_f",
        "colab_type": "code",
        "colab": {}
      },
      "source": [
        "col3 = pd.DataFrame(data.groupby('CaptureSite').agg({'Species':['count']}))\n",
        "col3.columns = [col[0]+\"_\"+col[1] for col in col3.columns.tolist()]\n",
        "col3.reset_index(inplace=True)"
      ],
      "execution_count": 0,
      "outputs": []
    },
    {
      "cell_type": "code",
      "metadata": {
        "id": "6CF7SF6j5aCO",
        "colab_type": "code",
        "colab": {
          "base_uri": "https://localhost:8080/",
          "height": 204
        },
        "outputId": "3d8c1ac5-7d2b-4cd2-f94d-ce301f50077d"
      },
      "source": [
        "col3.head()"
      ],
      "execution_count": 801,
      "outputs": [
        {
          "output_type": "execute_result",
          "data": {
            "text/html": [
              "<div>\n",
              "<style scoped>\n",
              "    .dataframe tbody tr th:only-of-type {\n",
              "        vertical-align: middle;\n",
              "    }\n",
              "\n",
              "    .dataframe tbody tr th {\n",
              "        vertical-align: top;\n",
              "    }\n",
              "\n",
              "    .dataframe thead th {\n",
              "        text-align: right;\n",
              "    }\n",
              "</style>\n",
              "<table border=\"1\" class=\"dataframe\">\n",
              "  <thead>\n",
              "    <tr style=\"text-align: right;\">\n",
              "      <th></th>\n",
              "      <th>CaptureSite</th>\n",
              "      <th>Species_count</th>\n",
              "    </tr>\n",
              "  </thead>\n",
              "  <tbody>\n",
              "    <tr>\n",
              "      <th>0</th>\n",
              "      <td>CaptureSite_0</td>\n",
              "      <td>95</td>\n",
              "    </tr>\n",
              "    <tr>\n",
              "      <th>1</th>\n",
              "      <td>CaptureSite_1</td>\n",
              "      <td>793</td>\n",
              "    </tr>\n",
              "    <tr>\n",
              "      <th>2</th>\n",
              "      <td>CaptureSite_10</td>\n",
              "      <td>464</td>\n",
              "    </tr>\n",
              "    <tr>\n",
              "      <th>3</th>\n",
              "      <td>CaptureSite_11</td>\n",
              "      <td>312</td>\n",
              "    </tr>\n",
              "    <tr>\n",
              "      <th>4</th>\n",
              "      <td>CaptureSite_12</td>\n",
              "      <td>573</td>\n",
              "    </tr>\n",
              "  </tbody>\n",
              "</table>\n",
              "</div>"
            ],
            "text/plain": [
              "      CaptureSite  Species_count\n",
              "0   CaptureSite_0             95\n",
              "1   CaptureSite_1            793\n",
              "2  CaptureSite_10            464\n",
              "3  CaptureSite_11            312\n",
              "4  CaptureSite_12            573"
            ]
          },
          "metadata": {
            "tags": []
          },
          "execution_count": 801
        }
      ]
    },
    {
      "cell_type": "code",
      "metadata": {
        "id": "2HTTzqRv7diA",
        "colab_type": "code",
        "colab": {}
      },
      "source": [
        "train=train.merge(col3,how='left',on='CaptureSite')"
      ],
      "execution_count": 0,
      "outputs": []
    },
    {
      "cell_type": "code",
      "metadata": {
        "id": "7C3ZKWb07wKB",
        "colab_type": "code",
        "colab": {
          "base_uri": "https://localhost:8080/",
          "height": 224
        },
        "outputId": "cbe216ae-e143-461f-c916-54456eb03ec1"
      },
      "source": [
        "train.head()"
      ],
      "execution_count": 803,
      "outputs": [
        {
          "output_type": "execute_result",
          "data": {
            "text/html": [
              "<div>\n",
              "<style scoped>\n",
              "    .dataframe tbody tr th:only-of-type {\n",
              "        vertical-align: middle;\n",
              "    }\n",
              "\n",
              "    .dataframe tbody tr th {\n",
              "        vertical-align: top;\n",
              "    }\n",
              "\n",
              "    .dataframe thead th {\n",
              "        text-align: right;\n",
              "    }\n",
              "</style>\n",
              "<table border=\"1\" class=\"dataframe\">\n",
              "  <thead>\n",
              "    <tr style=\"text-align: right;\">\n",
              "      <th></th>\n",
              "      <th>Date_TimeCaught</th>\n",
              "      <th>year</th>\n",
              "      <th>week_of_year</th>\n",
              "      <th>year_woy</th>\n",
              "      <th>CaptureSite</th>\n",
              "      <th>Capture_Number</th>\n",
              "      <th>Rescue_ID_count</th>\n",
              "      <th>Researcher_count</th>\n",
              "      <th>Fisher_count</th>\n",
              "      <th>Species_count</th>\n",
              "    </tr>\n",
              "  </thead>\n",
              "  <tbody>\n",
              "    <tr>\n",
              "      <th>0</th>\n",
              "      <td>2000-01-01</td>\n",
              "      <td>2000</td>\n",
              "      <td>52</td>\n",
              "      <td>200052</td>\n",
              "      <td>CaptureSite_0</td>\n",
              "      <td>0.0</td>\n",
              "      <td>95</td>\n",
              "      <td>95</td>\n",
              "      <td>95</td>\n",
              "      <td>95</td>\n",
              "    </tr>\n",
              "    <tr>\n",
              "      <th>1</th>\n",
              "      <td>2000-12-18</td>\n",
              "      <td>2000</td>\n",
              "      <td>51</td>\n",
              "      <td>200051</td>\n",
              "      <td>CaptureSite_0</td>\n",
              "      <td>1.0</td>\n",
              "      <td>95</td>\n",
              "      <td>95</td>\n",
              "      <td>95</td>\n",
              "      <td>95</td>\n",
              "    </tr>\n",
              "    <tr>\n",
              "      <th>2</th>\n",
              "      <td>2001-01-01</td>\n",
              "      <td>2001</td>\n",
              "      <td>1</td>\n",
              "      <td>200101</td>\n",
              "      <td>CaptureSite_0</td>\n",
              "      <td>0.0</td>\n",
              "      <td>95</td>\n",
              "      <td>95</td>\n",
              "      <td>95</td>\n",
              "      <td>95</td>\n",
              "    </tr>\n",
              "    <tr>\n",
              "      <th>3</th>\n",
              "      <td>2001-01-08</td>\n",
              "      <td>2001</td>\n",
              "      <td>2</td>\n",
              "      <td>200102</td>\n",
              "      <td>CaptureSite_0</td>\n",
              "      <td>0.0</td>\n",
              "      <td>95</td>\n",
              "      <td>95</td>\n",
              "      <td>95</td>\n",
              "      <td>95</td>\n",
              "    </tr>\n",
              "    <tr>\n",
              "      <th>4</th>\n",
              "      <td>2001-01-15</td>\n",
              "      <td>2001</td>\n",
              "      <td>3</td>\n",
              "      <td>200103</td>\n",
              "      <td>CaptureSite_0</td>\n",
              "      <td>0.0</td>\n",
              "      <td>95</td>\n",
              "      <td>95</td>\n",
              "      <td>95</td>\n",
              "      <td>95</td>\n",
              "    </tr>\n",
              "  </tbody>\n",
              "</table>\n",
              "</div>"
            ],
            "text/plain": [
              "  Date_TimeCaught  year  ...  Fisher_count  Species_count\n",
              "0      2000-01-01  2000  ...            95             95\n",
              "1      2000-12-18  2000  ...            95             95\n",
              "2      2001-01-01  2001  ...            95             95\n",
              "3      2001-01-08  2001  ...            95             95\n",
              "4      2001-01-15  2001  ...            95             95\n",
              "\n",
              "[5 rows x 10 columns]"
            ]
          },
          "metadata": {
            "tags": []
          },
          "execution_count": 803
        }
      ]
    },
    {
      "cell_type": "code",
      "metadata": {
        "id": "tbMamiK78qGS",
        "colab_type": "code",
        "colab": {}
      },
      "source": [
        "from sklearn.model_selection import train_test_split\n",
        "columns=train.columns"
      ],
      "execution_count": 0,
      "outputs": []
    },
    {
      "cell_type": "code",
      "metadata": {
        "id": "vd9yKFMi9u9m",
        "colab_type": "code",
        "colab": {
          "base_uri": "https://localhost:8080/",
          "height": 85
        },
        "outputId": "24f7fed0-d56a-4c0b-c0b7-324f4d7c195d"
      },
      "source": [
        "columns"
      ],
      "execution_count": 805,
      "outputs": [
        {
          "output_type": "execute_result",
          "data": {
            "text/plain": [
              "Index(['Date_TimeCaught', 'year', 'week_of_year', 'year_woy', 'CaptureSite',\n",
              "       'Capture_Number', 'Rescue_ID_count', 'Researcher_count', 'Fisher_count',\n",
              "       'Species_count'],\n",
              "      dtype='object')"
            ]
          },
          "metadata": {
            "tags": []
          },
          "execution_count": 805
        }
      ]
    },
    {
      "cell_type": "code",
      "metadata": {
        "id": "BhWZr97VYMNw",
        "colab_type": "code",
        "colab": {}
      },
      "source": [
        "col1 = pd.DataFrame(data.groupby('CaptureSite').agg({'Researcher':['count']}))\n",
        "col1.columns = [col[0]+\"_\"+col[1] for col in col1.columns.tolist()]\n",
        "col1.reset_index(inplace=True)\n",
        "test=test.merge(col1,how='left',on='CaptureSite')\n",
        "col2 = pd.DataFrame(data.groupby('CaptureSite').agg({'Fisher':['count']}))\n",
        "col2.columns = [col[0]+\"_\"+col[1] for col in col2.columns.tolist()]\n",
        "col2.reset_index(inplace=True)\n",
        "test=test.merge(col2,how='left',on='CaptureSite')\n",
        "col3 = pd.DataFrame(data.groupby('CaptureSite').agg({'Species':['count']}))\n",
        "col3.columns = [col[0]+\"_\"+col[1] for col in col3.columns.tolist()]\n",
        "col3.reset_index(inplace=True)\n",
        "test=test.merge(col3,how='left',on='CaptureSite')\n",
        "col3 = pd.DataFrame(data.groupby('CaptureSite').agg({'Rescue_ID':['count']}))\n",
        "col3.columns = [col[0]+\"_\"+col[1] for col in col3.columns.tolist()]\n",
        "col3.reset_index(inplace=True)\n",
        "test=test.merge(col3,how='left',on='CaptureSite')\n"
      ],
      "execution_count": 0,
      "outputs": []
    },
    {
      "cell_type": "code",
      "metadata": {
        "id": "P0uyYTf1GQDQ",
        "colab_type": "code",
        "colab": {}
      },
      "source": [
        "from sklearn import preprocessing\n",
        "for f in train.columns:\n",
        "    if train[f].dtype=='object'  : \n",
        "        lbl = preprocessing.LabelEncoder()\n",
        "        lbl.fit(list(train[f].values))  \n",
        "        train[f] = lbl.transform(list(train[f].values))"
      ],
      "execution_count": 0,
      "outputs": []
    },
    {
      "cell_type": "code",
      "metadata": {
        "id": "PwcE4651H7_H",
        "colab_type": "code",
        "colab": {}
      },
      "source": [
        "from sklearn import preprocessing\n",
        "for f in test.columns:\n",
        "    if test[f].dtype=='object'  : \n",
        "        lbl = preprocessing.LabelEncoder()\n",
        "        lbl.fit(list(test[f].values))  \n",
        "        test[f] = lbl.transform(list(test[f].values))"
      ],
      "execution_count": 0,
      "outputs": []
    },
    {
      "cell_type": "code",
      "metadata": {
        "id": "TnSZfZ8KiA3N",
        "colab_type": "code",
        "colab": {
          "base_uri": "https://localhost:8080/",
          "height": 85
        },
        "outputId": "8101e3af-a431-481f-8d32-926ad1976f22"
      },
      "source": [
        "train.columns"
      ],
      "execution_count": 809,
      "outputs": [
        {
          "output_type": "execute_result",
          "data": {
            "text/plain": [
              "Index(['Date_TimeCaught', 'year', 'week_of_year', 'year_woy', 'CaptureSite',\n",
              "       'Capture_Number', 'Rescue_ID_count', 'Researcher_count', 'Fisher_count',\n",
              "       'Species_count'],\n",
              "      dtype='object')"
            ]
          },
          "metadata": {
            "tags": []
          },
          "execution_count": 809
        }
      ]
    },
    {
      "cell_type": "code",
      "metadata": {
        "id": "xAEqqtf3giCz",
        "colab_type": "code",
        "colab": {}
      },
      "source": [
        "\n"
      ],
      "execution_count": 0,
      "outputs": []
    },
    {
      "cell_type": "code",
      "metadata": {
        "id": "0l97Tfb3-MJj",
        "colab_type": "code",
        "colab": {}
      },
      "source": [
        "\n",
        "X_train=train[['year', 'week_of_year', 'year_woy', 'Researcher_count', 'Fisher_count', 'Species_count','Rescue_ID_count', 'CaptureSite']]\n",
        "y_train=train['Capture_Number']\n",
        "\n",
        "#X_train , X_test , y_train , y_test = train_test_split(X,y,test_size=0.2,random_state=0)"
      ],
      "execution_count": 0,
      "outputs": []
    },
    {
      "cell_type": "code",
      "metadata": {
        "id": "sR_sRkJSGTs9",
        "colab_type": "code",
        "colab": {
          "base_uri": "https://localhost:8080/",
          "height": 204
        },
        "outputId": "d577fb15-90a9-4c69-b534-14e3653d7446"
      },
      "source": [
        "train.dtypes"
      ],
      "execution_count": 811,
      "outputs": [
        {
          "output_type": "execute_result",
          "data": {
            "text/plain": [
              "Date_TimeCaught     datetime64[ns]\n",
              "year                         int64\n",
              "week_of_year                 int64\n",
              "year_woy                     int64\n",
              "CaptureSite                  int64\n",
              "Capture_Number             float64\n",
              "Rescue_ID_count              int64\n",
              "Researcher_count             int64\n",
              "Fisher_count                 int64\n",
              "Species_count                int64\n",
              "dtype: object"
            ]
          },
          "metadata": {
            "tags": []
          },
          "execution_count": 811
        }
      ]
    },
    {
      "cell_type": "code",
      "metadata": {
        "id": "pNvbNJJI-7AX",
        "colab_type": "code",
        "colab": {}
      },
      "source": [
        "#from sklearn.linear_model import LinearRegression\n",
        "#model1 = LinearRegression()\n",
        "#model1.fit(X_train,y_train)\n"
      ],
      "execution_count": 0,
      "outputs": []
    },
    {
      "cell_type": "code",
      "metadata": {
        "id": "HtvrSPnDCnh8",
        "colab_type": "code",
        "colab": {
          "base_uri": "https://localhost:8080/",
          "height": 241
        },
        "outputId": "6555d653-7eb7-4fa0-f216-945c22fb7e13"
      },
      "source": [
        "from xgboost import XGBRegressor\n",
        "\n",
        "my_model = XGBRegressor(n_estimators=1000)\n",
        "my_model.fit(X_train, y_train)\n"
      ],
      "execution_count": 812,
      "outputs": [
        {
          "output_type": "stream",
          "text": [
            "/usr/local/lib/python3.6/dist-packages/xgboost/core.py:587: FutureWarning: Series.base is deprecated and will be removed in a future version\n",
            "  if getattr(data, 'base', None) is not None and \\\n",
            "/usr/local/lib/python3.6/dist-packages/xgboost/core.py:588: FutureWarning: Series.base is deprecated and will be removed in a future version\n",
            "  data.base is not None and isinstance(data, np.ndarray) \\\n"
          ],
          "name": "stderr"
        },
        {
          "output_type": "stream",
          "text": [
            "[18:28:25] WARNING: /workspace/src/objective/regression_obj.cu:152: reg:linear is now deprecated in favor of reg:squarederror.\n"
          ],
          "name": "stdout"
        },
        {
          "output_type": "execute_result",
          "data": {
            "text/plain": [
              "XGBRegressor(base_score=0.5, booster='gbtree', colsample_bylevel=1,\n",
              "             colsample_bynode=1, colsample_bytree=1, gamma=0,\n",
              "             importance_type='gain', learning_rate=0.1, max_delta_step=0,\n",
              "             max_depth=3, min_child_weight=1, missing=None, n_estimators=1000,\n",
              "             n_jobs=1, nthread=None, objective='reg:linear', random_state=0,\n",
              "             reg_alpha=0, reg_lambda=1, scale_pos_weight=1, seed=None,\n",
              "             silent=None, subsample=1, verbosity=1)"
            ]
          },
          "metadata": {
            "tags": []
          },
          "execution_count": 812
        }
      ]
    },
    {
      "cell_type": "code",
      "metadata": {
        "id": "Pwk0qjh6VDtJ",
        "colab_type": "code",
        "colab": {}
      },
      "source": [
        "\n",
        "#X_test=test[[ 'year', 'week_of_year', 'year_woy', 'CaptureSite'\n",
        "       , 'Researcher_count', 'Fisher_count', 'Species_count','Rescue_ID_count']]\n",
        "#y_test=test['Capture_Number']\n",
        "\n",
        "X_test=test[['year', 'week_of_year', 'year_woy', 'Researcher_count', 'Fisher_count', 'Species_count','Rescue_ID_count', 'CaptureSite']]\n",
        "y_test=test['Capture_Number']\n",
        "#X_train , X_test , y_train , y_test = train_test_split(X,y,test_size=0.2,random_state=0)"
      ],
      "execution_count": 0,
      "outputs": []
    },
    {
      "cell_type": "code",
      "metadata": {
        "id": "L8sYLxDaIkNt",
        "colab_type": "code",
        "colab": {}
      },
      "source": [
        "y_pred = my_model.predict(X_test)\n",
        "predictions = [round(value) for value in y_pred]"
      ],
      "execution_count": 0,
      "outputs": []
    },
    {
      "cell_type": "code",
      "metadata": {
        "id": "tOiZJ-pRIub_",
        "colab_type": "code",
        "colab": {
          "base_uri": "https://localhost:8080/",
          "height": 34
        },
        "outputId": "385157f2-2057-4c24-eb5d-4524884b7a28"
      },
      "source": [
        "\n",
        "#from sklearn.metrics import mean_absolute_error\n",
        "#print(\"Mean Absolute Error : \" + str(mean_absolute_error(predictions, y_test)))\n",
        "from sklearn.metrics import mean_squared_error\n",
        "mean_squared_error(y_test,predictions)"
      ],
      "execution_count": 815,
      "outputs": [
        {
          "output_type": "execute_result",
          "data": {
            "text/plain": [
              "6.487460815047022"
            ]
          },
          "metadata": {
            "tags": []
          },
          "execution_count": 815
        }
      ]
    },
    {
      "cell_type": "code",
      "metadata": {
        "id": "5MqiFDklkCcX",
        "colab_type": "code",
        "colab": {
          "base_uri": "https://localhost:8080/",
          "height": 336
        },
        "outputId": "883bc90c-7710-4206-a546-a50cd20e6ec8"
      },
      "source": [
        "import lightgbm as lgb\n",
        "param = {'num_leaves': 64, 'objective': 'binary'}\n",
        "param['metric'] = 'auc'\n",
        "num_round = 1000\n",
        "bst = lgb.train(param, X_train, num_round, valid_sets=[y_train], early_stopping_rounds=10, verbose_eval=False)\n"
      ],
      "execution_count": 816,
      "outputs": [
        {
          "output_type": "error",
          "ename": "TypeError",
          "evalue": "ignored",
          "traceback": [
            "\u001b[0;31m---------------------------------------------------------------------------\u001b[0m",
            "\u001b[0;31mTypeError\u001b[0m                                 Traceback (most recent call last)",
            "\u001b[0;32m<ipython-input-816-c66fdced86f0>\u001b[0m in \u001b[0;36m<module>\u001b[0;34m()\u001b[0m\n\u001b[1;32m      3\u001b[0m \u001b[0mparam\u001b[0m\u001b[0;34m[\u001b[0m\u001b[0;34m'metric'\u001b[0m\u001b[0;34m]\u001b[0m \u001b[0;34m=\u001b[0m \u001b[0;34m'auc'\u001b[0m\u001b[0;34m\u001b[0m\u001b[0;34m\u001b[0m\u001b[0m\n\u001b[1;32m      4\u001b[0m \u001b[0mnum_round\u001b[0m \u001b[0;34m=\u001b[0m \u001b[0;36m1000\u001b[0m\u001b[0;34m\u001b[0m\u001b[0;34m\u001b[0m\u001b[0m\n\u001b[0;32m----> 5\u001b[0;31m \u001b[0mbst\u001b[0m \u001b[0;34m=\u001b[0m \u001b[0mlgb\u001b[0m\u001b[0;34m.\u001b[0m\u001b[0mtrain\u001b[0m\u001b[0;34m(\u001b[0m\u001b[0mparam\u001b[0m\u001b[0;34m,\u001b[0m \u001b[0mX_train\u001b[0m\u001b[0;34m,\u001b[0m \u001b[0mnum_round\u001b[0m\u001b[0;34m,\u001b[0m \u001b[0mvalid_sets\u001b[0m\u001b[0;34m=\u001b[0m\u001b[0;34m[\u001b[0m\u001b[0my_train\u001b[0m\u001b[0;34m]\u001b[0m\u001b[0;34m,\u001b[0m \u001b[0mearly_stopping_rounds\u001b[0m\u001b[0;34m=\u001b[0m\u001b[0;36m10\u001b[0m\u001b[0;34m,\u001b[0m \u001b[0mverbose_eval\u001b[0m\u001b[0;34m=\u001b[0m\u001b[0;32mFalse\u001b[0m\u001b[0;34m)\u001b[0m\u001b[0;34m\u001b[0m\u001b[0;34m\u001b[0m\u001b[0m\n\u001b[0m",
            "\u001b[0;32m/usr/local/lib/python3.6/dist-packages/lightgbm/engine.py\u001b[0m in \u001b[0;36mtrain\u001b[0;34m(params, train_set, num_boost_round, valid_sets, valid_names, fobj, feval, init_model, feature_name, categorical_feature, early_stopping_rounds, evals_result, verbose_eval, learning_rates, keep_training_booster, callbacks)\u001b[0m\n\u001b[1;32m    135\u001b[0m     \u001b[0;31m# check dataset\u001b[0m\u001b[0;34m\u001b[0m\u001b[0;34m\u001b[0m\u001b[0;34m\u001b[0m\u001b[0m\n\u001b[1;32m    136\u001b[0m     \u001b[0;32mif\u001b[0m \u001b[0;32mnot\u001b[0m \u001b[0misinstance\u001b[0m\u001b[0;34m(\u001b[0m\u001b[0mtrain_set\u001b[0m\u001b[0;34m,\u001b[0m \u001b[0mDataset\u001b[0m\u001b[0;34m)\u001b[0m\u001b[0;34m:\u001b[0m\u001b[0;34m\u001b[0m\u001b[0;34m\u001b[0m\u001b[0m\n\u001b[0;32m--> 137\u001b[0;31m         \u001b[0;32mraise\u001b[0m \u001b[0mTypeError\u001b[0m\u001b[0;34m(\u001b[0m\u001b[0;34m\"Training only accepts Dataset object\"\u001b[0m\u001b[0;34m)\u001b[0m\u001b[0;34m\u001b[0m\u001b[0;34m\u001b[0m\u001b[0m\n\u001b[0m\u001b[1;32m    138\u001b[0m \u001b[0;34m\u001b[0m\u001b[0m\n\u001b[1;32m    139\u001b[0m     \u001b[0mtrain_set\u001b[0m\u001b[0;34m.\u001b[0m\u001b[0m_update_params\u001b[0m\u001b[0;34m(\u001b[0m\u001b[0mparams\u001b[0m\u001b[0;34m)\u001b[0m\u001b[0;31m \u001b[0m\u001b[0;31m\\\u001b[0m\u001b[0;34m\u001b[0m\u001b[0;34m\u001b[0m\u001b[0m\n",
            "\u001b[0;31mTypeError\u001b[0m: Training only accepts Dataset object"
          ]
        }
      ]
    },
    {
      "cell_type": "code",
      "metadata": {
        "id": "Ly2E2rgCIxXg",
        "colab_type": "code",
        "colab": {}
      },
      "source": [
        "from IPython.display import FileLink\n",
        "def create_submission(submission_file, submission_name):\n",
        "    submission_file.to_csv(submission_name+\".csv\" , index=False)\n",
        "    return FileLink(submission_name+\".csv\")"
      ],
      "execution_count": 0,
      "outputs": []
    },
    {
      "cell_type": "code",
      "metadata": {
        "id": "7hRV90iEJHXE",
        "colab_type": "code",
        "colab": {}
      },
      "source": [
        "#Sample_sub = pd.read_csv('Sample_sub')\n",
        "Sample_sub = pd.read_csv('Sample_sub.csv')"
      ],
      "execution_count": 0,
      "outputs": []
    },
    {
      "cell_type": "code",
      "metadata": {
        "id": "_vOfUph3PgoP",
        "colab_type": "code",
        "colab": {}
      },
      "source": [
        "Sample_sub['Capture_Number'] =y_pred\n"
      ],
      "execution_count": 0,
      "outputs": []
    },
    {
      "cell_type": "code",
      "metadata": {
        "id": "zf-dWOJaSWGr",
        "colab_type": "code",
        "colab": {}
      },
      "source": [
        "create_submission(Sample_sub ,  'sub3')"
      ],
      "execution_count": 0,
      "outputs": []
    },
    {
      "cell_type": "code",
      "metadata": {
        "id": "L0tbVHPKanDa",
        "colab_type": "code",
        "colab": {}
      },
      "source": [
        "data.isna().sum()"
      ],
      "execution_count": 0,
      "outputs": []
    },
    {
      "cell_type": "code",
      "metadata": {
        "id": "V4f3M8MefD5l",
        "colab_type": "code",
        "colab": {}
      },
      "source": [
        ""
      ],
      "execution_count": 0,
      "outputs": []
    },
    {
      "cell_type": "code",
      "metadata": {
        "id": "xiZ6LiMbf2_Q",
        "colab_type": "code",
        "colab": {}
      },
      "source": [
        "from sklearn.preprocessing import LabelEncoder\n",
        "\n",
        "cat_features = ['CaptureSite']\n",
        "encoder = LabelEncoder()\n",
        "\n",
        "# Apply the label encoder to each column\n",
        "encoded = train[cat_features].apply(encoder.fit_transform)\n",
        "encoded.head(-10)\n",
        "# Since ks and encoded have the same index and I can easily join them\n",
        "train =train[['Capture_Number' , 'year', 'week_of_year', 'year_woy',\n",
        "              'Researcher_count', 'Fisher_count', 'Species_count','Rescue_ID_count']].join(encoded)\n",
        "\n",
        "\n",
        "# Apply the label encoder to each column\n",
        "encoded = test[cat_features].apply(encoder.fit_transform)\n",
        "encoded.head(-10)\n",
        "# Since ks and encoded have the same index and I can easily join them\n",
        "test =test[['Capture_Number' , 'year', 'week_of_year', 'year_woy',\n",
        "              'Researcher_count', 'Fisher_count', 'Species_count','Rescue_ID_count']].join(encoded)\n",
        "train.head()"
      ],
      "execution_count": 0,
      "outputs": []
    }
  ]
}